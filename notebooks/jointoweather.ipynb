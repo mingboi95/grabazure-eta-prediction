{
  "nbformat": 4,
  "nbformat_minor": 0,
  "metadata": {
    "colab": {
      "name": "jointoweather.ipynb",
      "provenance": [],
      "collapsed_sections": []
    },
    "kernelspec": {
      "name": "python3",
      "display_name": "Python 3"
    }
  },
  "cells": [
    {
      "cell_type": "code",
      "metadata": {
        "id": "N34yn-Csw83p",
        "colab_type": "code",
        "colab": {}
      },
      "source": [
        "import pandas as pd\n",
        "import numpy as np"
      ],
      "execution_count": 0,
      "outputs": []
    },
    {
      "cell_type": "code",
      "metadata": {
        "id": "FuMLnGeNxsVY",
        "colab_type": "code",
        "colab": {}
      },
      "source": [
        "weather = pd.read_csv('may_apr_weather.csv')\n",
        "df = pd.read_csv('all_updated.csv')"
      ],
      "execution_count": 0,
      "outputs": []
    },
    {
      "cell_type": "code",
      "metadata": {
        "id": "Nr5Hnhh7BCua",
        "colab_type": "code",
        "colab": {}
      },
      "source": [
        "# dummy column for origin subregion for joining, need this because our dataset has 53 subregions but weather only 38\n",
        "df['dummy_origin'] = df['origin_subregion']\n",
        "conditions = [\n",
        "    (df['dummy_origin'] == 'BUKIT BATOK'),\n",
        "    (df['dummy_origin'] == 'HOUGANG'),\n",
        "    (df['dummy_origin'] == 'JURONG EAST'),\n",
        "    (df['dummy_origin'] == 'MARINA EAST'),\n",
        "    (df['dummy_origin'] == 'OUTRAM'),\n",
        "    (df['dummy_origin'] == 'STRAITS VIEW'),\n",
        "    (df['dummy_origin'] == 'MUSEUM'),\n",
        "    (df['dummy_origin'] == 'ROCHOR'),\n",
        "    (df['dummy_origin'] == 'SINGAPORE RIVER'),\n",
        "    (df['dummy_origin'] == 'RIVER VALLEY'),\n",
        "    (df['dummy_origin'] == 'TANGLIN'),\n",
        "    (df['dummy_origin'] == 'SENGKANG'),\n",
        "    (df['dummy_origin'] == 'SIMPANG'),\n",
        "    (df['dummy_origin'] == 'WESTERN ISLANDS'),\n",
        "    (df['dummy_origin'] == 'WESTERN WATER CATCHMENT')]\n",
        "\n",
        "choices = ['BUKIT PANJANG', 'PAYA LEBAR', 'CLEMENTI', 'MARINA SOUTH','MARINA SOUTH','MARINA SOUTH', 'DOWNTOWN CORE', 'DOWNTOWN CORE','DOWNTOWN CORE',\n",
        "           'ORCHARD', 'ORCHARD', 'SELETAR', 'SEMBAWANG', 'BOON LAY', 'LIM CHU KANG']\n",
        "df['dummy_origin'] = np.select(conditions, choices, df.dummy_origin)"
      ],
      "execution_count": 0,
      "outputs": []
    },
    {
      "cell_type": "code",
      "metadata": {
        "id": "2Wov9s30KlHO",
        "colab_type": "code",
        "colab": {}
      },
      "source": [
        "# dummy column for destination subregion for joining\n",
        "df['dummy_dest'] = df['dest_subregion']\n",
        "conditions = [\n",
        "    (df['dummy_dest'] == 'BUKIT BATOK'),\n",
        "    (df['dummy_dest'] == 'HOUGANG'),\n",
        "    (df['dummy_dest'] == 'JURONG EAST'),\n",
        "    (df['dummy_dest'] == 'MARINA EAST'),\n",
        "    (df['dummy_dest'] == 'OUTRAM'),\n",
        "    (df['dummy_dest'] == 'STRAITS VIEW'),\n",
        "    (df['dummy_dest'] == 'MUSEUM'),\n",
        "    (df['dummy_dest'] == 'ROCHOR'),\n",
        "    (df['dummy_dest'] == 'SINGAPORE RIVER'),\n",
        "    (df['dummy_dest'] == 'RIVER VALLEY'),\n",
        "    (df['dummy_dest'] == 'TANGLIN'),\n",
        "    (df['dummy_dest'] == 'SENGKANG'),\n",
        "    (df['dummy_dest'] == 'SIMPANG'),\n",
        "    (df['dummy_dest'] == 'WESTERN ISLANDS'),\n",
        "    (df['dummy_dest'] == 'WESTERN WATER CATCHMENT')]\n",
        "\n",
        "choices = ['BUKIT PANJANG', 'PAYA LEBAR', 'CLEMENTI', 'MARINA SOUTH','MARINA SOUTH','MARINA SOUTH', 'DOWNTOWN CORE', 'DOWNTOWN CORE','DOWNTOWN CORE',\n",
        "           'ORCHARD', 'ORCHARD', 'SELETAR', 'SEMBAWANG', 'BOON LAY', 'LIM CHU KANG']\n",
        "df['dummy_dest'] = np.select(conditions, choices, df.dummy_dest)"
      ],
      "execution_count": 0,
      "outputs": []
    },
    {
      "cell_type": "code",
      "metadata": {
        "id": "BFeeAG1fACzb",
        "colab_type": "code",
        "colab": {}
      },
      "source": [
        "df_a = pd.merge(df, weather,  how='left', left_on=['dummy_origin', 'day','month'], right_on = ['subregion', 'weather_day', 'weather_month'])\n",
        "df_a = df_a.drop(['dummy_origin', 'weather_day', 'weather_month', 'subregion'], axis = 1) \n",
        "df_a.rename(columns={'Rainfall':'origin_avg_daily_rainfall'}, inplace=True)"
      ],
      "execution_count": 0,
      "outputs": []
    },
    {
      "cell_type": "code",
      "metadata": {
        "id": "f5dytrWytFOA",
        "colab_type": "code",
        "colab": {}
      },
      "source": [
        "df_b = pd.merge(df_a, weather,  how='left', left_on=['dummy_dest', 'day','month'], right_on = ['subregion', 'weather_day', 'weather_month'])\n",
        "df_b = df_b.drop(['dummy_dest', 'weather_day', 'weather_month', 'subregion'], axis = 1) \n",
        "df_b.rename(columns={'Rainfall':'dest_avg_daily_rainfall'}, inplace=True)"
      ],
      "execution_count": 0,
      "outputs": []
    },
    {
      "cell_type": "code",
      "metadata": {
        "id": "uE6urQoquJ85",
        "colab_type": "code",
        "colab": {}
      },
      "source": [
        "df_b.to_csv('all_updated_with_weather.csv')"
      ],
      "execution_count": 0,
      "outputs": []
    }
  ]
}
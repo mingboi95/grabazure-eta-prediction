{
 "cells": [
  {
   "cell_type": "markdown",
   "metadata": {
    "colab_type": "text",
    "id": "EfWTuCUpa9Co"
   },
   "source": [
    "Add in the spatial data\n",
    "\n"
   ]
  },
  {
   "cell_type": "code",
   "execution_count": 2,
   "metadata": {
    "colab": {
     "base_uri": "https://localhost:8080/",
     "height": 714
    },
    "colab_type": "code",
    "id": "s8ReYv8sgZEj",
    "outputId": "a8451d93-9e01-48f7-9f1c-69a142c52bc5"
   },
   "outputs": [
    {
     "name": "stdout",
     "output_type": "stream",
     "text": [
      "Collecting geopandas\n",
      "  Using cached geopandas-0.7.0-py2.py3-none-any.whl (928 kB)\n",
      "Requirement already satisfied: pandas>=0.23.0 in c:\\users\\natalielam\\anaconda3\\lib\\site-packages (from geopandas) (1.0.3)\n",
      "Collecting pyproj>=2.2.0\n",
      "  Using cached pyproj-2.6.1.post1-cp37-cp37m-win_amd64.whl (17.2 MB)\n",
      "Collecting shapely\n",
      "  Using cached Shapely-1.7.0-cp37-cp37m-win_amd64.whl (1.0 MB)\n",
      "Collecting fiona\n",
      "  Using cached Fiona-1.8.13.post1.tar.gz (1.2 MB)\n"
     ]
    },
    {
     "name": "stderr",
     "output_type": "stream",
     "text": [
      "    ERROR: Command errored out with exit status 1:\n",
      "     command: 'C:\\Users\\natalielam\\Anaconda3\\python.exe' -c 'import sys, setuptools, tokenize; sys.argv[0] = '\"'\"'C:\\\\Users\\\\NATALI~1\\\\AppData\\\\Local\\\\Temp\\\\pip-install-l3wqcd1m\\\\fiona\\\\setup.py'\"'\"'; __file__='\"'\"'C:\\\\Users\\\\NATALI~1\\\\AppData\\\\Local\\\\Temp\\\\pip-install-l3wqcd1m\\\\fiona\\\\setup.py'\"'\"';f=getattr(tokenize, '\"'\"'open'\"'\"', open)(__file__);code=f.read().replace('\"'\"'\\r\\n'\"'\"', '\"'\"'\\n'\"'\"');f.close();exec(compile(code, __file__, '\"'\"'exec'\"'\"'))' egg_info --egg-base 'C:\\Users\\NATALI~1\\AppData\\Local\\Temp\\pip-install-l3wqcd1m\\fiona\\pip-egg-info'\n",
      "         cwd: C:\\Users\\NATALI~1\\AppData\\Local\\Temp\\pip-install-l3wqcd1m\\fiona\\\n",
      "    Complete output (1 lines):\n",
      "    A GDAL API version must be specified. Provide a path to gdal-config using a GDAL_CONFIG environment variable or use a GDAL_VERSION environment variable.\n",
      "    ----------------------------------------\n",
      "ERROR: Command errored out with exit status 1: python setup.py egg_info Check the logs for full command output.\n"
     ]
    },
    {
     "name": "stdout",
     "output_type": "stream",
     "text": [
      "Requirement already satisfied: pyshp in c:\\users\\natalielam\\anaconda3\\lib\\site-packages (2.1.0)\n"
     ]
    },
    {
     "name": "stderr",
     "output_type": "stream",
     "text": [
      "'sudo' is not recognized as an internal or external command,\n",
      "operable program or batch file.\n"
     ]
    },
    {
     "name": "stdout",
     "output_type": "stream",
     "text": [
      "Requirement already satisfied: rtree in c:\\users\\natalielam\\anaconda3\\lib\\site-packages (0.9.4)\n",
      "Requirement already satisfied: setuptools in c:\\users\\natalielam\\anaconda3\\lib\\site-packages (from rtree) (47.1.1.post20200604)\n",
      "Collecting geopandas\n",
      "  Using cached geopandas-0.7.0-py2.py3-none-any.whl (928 kB)\n",
      "Collecting pyproj>=2.2.0\n",
      "  Using cached pyproj-2.6.1.post1-cp37-cp37m-win_amd64.whl (17.2 MB)\n",
      "Collecting fiona\n",
      "  Using cached Fiona-1.8.13.post1.tar.gz (1.2 MB)\n"
     ]
    },
    {
     "name": "stderr",
     "output_type": "stream",
     "text": [
      "    ERROR: Command errored out with exit status 1:\n",
      "     command: 'C:\\Users\\natalielam\\Anaconda3\\python.exe' -c 'import sys, setuptools, tokenize; sys.argv[0] = '\"'\"'C:\\\\Users\\\\NATALI~1\\\\AppData\\\\Local\\\\Temp\\\\pip-install-7fcfby0j\\\\fiona\\\\setup.py'\"'\"'; __file__='\"'\"'C:\\\\Users\\\\NATALI~1\\\\AppData\\\\Local\\\\Temp\\\\pip-install-7fcfby0j\\\\fiona\\\\setup.py'\"'\"';f=getattr(tokenize, '\"'\"'open'\"'\"', open)(__file__);code=f.read().replace('\"'\"'\\r\\n'\"'\"', '\"'\"'\\n'\"'\"');f.close();exec(compile(code, __file__, '\"'\"'exec'\"'\"'))' egg_info --egg-base 'C:\\Users\\NATALI~1\\AppData\\Local\\Temp\\pip-install-7fcfby0j\\fiona\\pip-egg-info'\n",
      "         cwd: C:\\Users\\NATALI~1\\AppData\\Local\\Temp\\pip-install-7fcfby0j\\fiona\\\n",
      "    Complete output (1 lines):\n",
      "    A GDAL API version must be specified. Provide a path to gdal-config using a GDAL_CONFIG environment variable or use a GDAL_VERSION environment variable.\n",
      "    ----------------------------------------\n",
      "ERROR: Command errored out with exit status 1: python setup.py egg_info Check the logs for full command output.\n"
     ]
    },
    {
     "ename": "ModuleNotFoundError",
     "evalue": "No module named 'geopandas'",
     "output_type": "error",
     "traceback": [
      "\u001b[1;31m---------------------------------------------------------------------------\u001b[0m",
      "\u001b[1;31mModuleNotFoundError\u001b[0m                       Traceback (most recent call last)",
      "\u001b[1;32m<ipython-input-2-b32a85f6d5b1>\u001b[0m in \u001b[0;36m<module>\u001b[1;34m\u001b[0m\n\u001b[0;32m      8\u001b[0m \u001b[1;32mimport\u001b[0m \u001b[0mpandas\u001b[0m \u001b[1;32mas\u001b[0m \u001b[0mpd\u001b[0m\u001b[1;33m\u001b[0m\u001b[1;33m\u001b[0m\u001b[0m\n\u001b[0;32m      9\u001b[0m \u001b[1;32mfrom\u001b[0m \u001b[0mzipfile\u001b[0m \u001b[1;32mimport\u001b[0m \u001b[0mZipFile\u001b[0m\u001b[1;33m\u001b[0m\u001b[1;33m\u001b[0m\u001b[0m\n\u001b[1;32m---> 10\u001b[1;33m \u001b[1;32mimport\u001b[0m \u001b[0mgeopandas\u001b[0m \u001b[1;32mas\u001b[0m \u001b[0mgpd\u001b[0m\u001b[1;33m\u001b[0m\u001b[1;33m\u001b[0m\u001b[0m\n\u001b[0m\u001b[0;32m     11\u001b[0m \u001b[1;32mfrom\u001b[0m \u001b[0mio\u001b[0m \u001b[1;32mimport\u001b[0m \u001b[0mBytesIO\u001b[0m\u001b[1;33m\u001b[0m\u001b[1;33m\u001b[0m\u001b[0m\n\u001b[0;32m     12\u001b[0m \u001b[1;32mimport\u001b[0m \u001b[0mshapefile\u001b[0m\u001b[1;33m\u001b[0m\u001b[1;33m\u001b[0m\u001b[0m\n",
      "\u001b[1;31mModuleNotFoundError\u001b[0m: No module named 'geopandas'"
     ]
    }
   ],
   "source": [
    "!pip install geopandas\n",
    "!pip install pyshp\n",
    "\n",
    "!sudo apt-get update && apt-get install -y libspatialindex-dev\n",
    "!pip install rtree\n",
    "!pip install geopandas\n",
    "\n",
    "import pandas as pd\n",
    "from zipfile import ZipFile\n",
    "import geopandas as gpd\n",
    "from io import BytesIO\n",
    "import shapefile\n",
    "from shapely.geometry import shape  \n",
    "import rtree\n",
    "import os"
   ]
  },
  {
   "cell_type": "code",
   "execution_count": null,
   "metadata": {},
   "outputs": [],
   "source": [
    "df = pd.read_csv('all.csv')\n",
    "\n",
    "zipfile = ZipFile('planning-area-census2010-shp.zip')\n",
    "filenames = [y for y in sorted(zipfile.namelist()) for ending in ['dbf', 'prj', 'shp', 'shx'] if y.endswith(ending)] \n",
    "\n",
    "dbf, prj, shp, shx = [BytesIO(zipfile.read(filename)) for filename in filenames]\n",
    "r = shapefile.Reader(shp=shp, shx=shx, dbf=dbf)\n",
    "\n",
    "attributes, geometry = [], []\n",
    "field_names = [field[0] for field in r.fields[1:]]  \n",
    "for row in r.shapeRecords():  \n",
    "    geometry.append(shape(row.shape.__geo_interface__))  \n",
    "    attributes.append(dict(zip(field_names, row.record)))"
   ]
  },
  {
   "cell_type": "code",
   "execution_count": null,
   "metadata": {},
   "outputs": [],
   "source": [
    "gdf = gpd.GeoDataFrame(data = attributes, geometry = geometry, crs = 'epsg:3414')\n",
    "gdf.geometry = gdf.geometry.to_crs(epsg=4326)\n",
    "\n",
    "points = gpd.GeoDataFrame(df, geometry=gpd.points_from_xy(df.origin_lng, df.origin_lat))\n",
    "\n",
    "points = points.loc[points.geometry.is_valid]\n",
    "gdf = gdf.loc[gdf.geometry.is_valid]"
   ]
  },
  {
   "cell_type": "code",
   "execution_count": null,
   "metadata": {},
   "outputs": [],
   "source": [
    "complete = gpd.sjoin(points, gdf, op = \"within\")\n",
    "\n",
    "df_complete = pd.DataFrame(complete)\n",
    "\n",
    "df_complete = df_complete[['trj_id', \n",
    "                           'avg_speed', \n",
    "                           'avg_bearing', \n",
    "                           'osname',\n",
    "                           'hour',\n",
    "                           'day',\n",
    "                           'is_Weekday',\n",
    "                           'time_group',\n",
    "                           'origin_lat',\n",
    "                           'origin_lng',\n",
    "                           'dest_lat',\n",
    "                           'dest_lng',\n",
    "                           'duration',\n",
    "                           'euclid_dist',\n",
    "                           'PLN_AREA_N',\n",
    "                           'REGION_N']]\n",
    "\n",
    "df_complete['origin_subregion'] = df_complete['PLN_AREA_N']\n",
    "df_complete['origin_region'] = df_complete['REGION_N']\n",
    "del df_complete['PLN_AREA_N']\n",
    "del df_complete['REGION_N']\n",
    "\n",
    "points_dest = gpd.GeoDataFrame(df_complete, geometry=gpd.points_from_xy(df_complete.dest_lng, df_complete.dest_lat))\n",
    "\n",
    "another = gpd.sjoin(points_dest, gdf, op = 'within')\n",
    "df_updated = pd.DataFrame(another)\n",
    "\n",
    "df_updated = df_updated[['trj_id', \n",
    "                         'avg_speed', \n",
    "                         'avg_bearing', \n",
    "                         'osname', \n",
    "                         'hour',\n",
    "                         'day', \n",
    "                         'is_Weekday',\n",
    "                         'time_group', \n",
    "                         'origin_lat', \n",
    "                         'origin_lng', \n",
    "                         'dest_lat', \n",
    "                         'dest_lng', \n",
    "                         'duration', \n",
    "                         'euclid_dist', \n",
    "                         'origin_subregion', \n",
    "                         'origin_region',\n",
    "                         'PLN_AREA_N', \n",
    "                         'REGION_N']]\n",
    "\n",
    "df_updated['dest_subregion'] = df_updated['PLN_AREA_N']\n",
    "df_updated['dest_region'] = df_updated['REGION_N']\n",
    "del df_updated['PLN_AREA_N']\n",
    "del df_updated['REGION_N']"
   ]
  },
  {
   "cell_type": "code",
   "execution_count": null,
   "metadata": {},
   "outputs": [],
   "source": [
    "# writing to csv\n",
    "df_updated.to_csv('all_updated.csv')"
   ]
  }
 ],
 "metadata": {
  "colab": {
   "name": "spatial2.ipynb",
   "provenance": []
  },
  "kernelspec": {
   "display_name": "Python 3",
   "language": "python",
   "name": "python3"
  },
  "language_info": {
   "codemirror_mode": {
    "name": "ipython",
    "version": 3
   },
   "file_extension": ".py",
   "mimetype": "text/x-python",
   "name": "python",
   "nbconvert_exporter": "python",
   "pygments_lexer": "ipython3",
   "version": "3.7.7"
  }
 },
 "nbformat": 4,
 "nbformat_minor": 4
}

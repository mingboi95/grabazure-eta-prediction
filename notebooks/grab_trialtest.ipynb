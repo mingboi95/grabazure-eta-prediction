{
 "cells": [
  {
   "cell_type": "code",
   "execution_count": 23,
   "metadata": {},
   "outputs": [],
   "source": [
    "endpoint = 'http://50f50db3-ce0c-4d72-bc04-653e319f8723.southeastasia.azurecontainer.io/score' #Replace with your endpoint\n",
    "key = 'LvalDhJvRqMg26KsehDKwYiawGCMLCDi' #Replace with your key\n",
    "\n",
    "import json\n",
    "import requests\n",
    "import pandas as pd\n",
    "import numpy as np\n",
    "\n",
    "test = pd.read_csv('test.csv')\n",
    "relevant_cols = ['avg_bearing', 'day of week',\n",
    "       'is_Weekday', 'hour', 'time_group', \n",
    "       'origin_avg_daily_rainfall', 'dest_avg_daily_rainfall', 'origin_lat',\n",
    "       'origin_lng', 'dest_lat', 'dest_lng', 'origin_region',\n",
    "       'origin_subregion', 'dest_region', 'dest_subregion', 'euclid_dist']"
   ]
  },
  {
   "cell_type": "code",
   "execution_count": 20,
   "metadata": {
    "tags": []
   },
   "outputs": [
    {
     "output_type": "stream",
     "name": "stdout",
     "text": "<class 'pandas.core.frame.DataFrame'>\nRangeIndex: 5600 entries, 0 to 5599\nData columns (total 23 columns):\n #   Column                     Non-Null Count  Dtype  \n---  ------                     --------------  -----  \n 0   Unnamed: 0                 5600 non-null   int64  \n 1   trj_id                     5600 non-null   int64  \n 2   day                        5600 non-null   int64  \n 3   month                      5600 non-null   int64  \n 4   osname                     5600 non-null   object \n 5   avg_speed                  5600 non-null   float64\n 6   avg_bearing                5600 non-null   float64\n 7   hour                       5600 non-null   int64  \n 8   day of week                5600 non-null   int64  \n 9   is_Weekday                 5600 non-null   int64  \n 10  time_group                 5600 non-null   object \n 11  origin_lat                 5600 non-null   float64\n 12  origin_lng                 5600 non-null   float64\n 13  dest_lat                   5600 non-null   float64\n 14  dest_lng                   5600 non-null   float64\n 15  origin_region              5600 non-null   object \n 16  origin_subregion           5600 non-null   object \n 17  dest_region                5600 non-null   object \n 18  dest_subregion             5600 non-null   object \n 19  euclid_dist                5600 non-null   float64\n 20  duration                   5600 non-null   int64  \n 21  origin_avg_daily_rainfall  5600 non-null   float64\n 22  dest_avg_daily_rainfall    5600 non-null   float64\ndtypes: float64(9), int64(8), object(6)\nmemory usage: 1006.4+ KB\n"
    }
   ],
   "source": [
    "test.info()"
   ]
  },
  {
   "cell_type": "code",
   "execution_count": 24,
   "metadata": {},
   "outputs": [],
   "source": [
    "X = test[relevant_cols]\n",
    "y = test.iloc[:,-1]\n",
    "ids = test['trj_id'].tolist()\n",
    "y_true = y.tolist()"
   ]
  },
  {
   "cell_type": "code",
   "execution_count": 25,
   "metadata": {},
   "outputs": [],
   "source": [
    "X_input = X.values.tolist()\n",
    "\n",
    "#Convert the array to JSON format\n",
    "input_json = json.dumps({\"data\": X_input})\n",
    "\n",
    "#Set the content type and authentication for the request\n",
    "headers = {\"Content-Type\":\"application/json\",\n",
    "        \"Authorization\":\"Bearer \" + key}\n",
    "\n",
    "#Send the request\n",
    "response = requests.post(endpoint, input_json, headers=headers)"
   ]
  },
  {
   "cell_type": "code",
   "execution_count": 26,
   "metadata": {
    "tags": []
   },
   "outputs": [
    {
     "output_type": "stream",
     "name": "stdout",
     "text": "<Response [502]>\n"
    }
   ],
   "source": [
    "y_pred = []\n",
    "#If we got a valid response, display the predictions\n",
    "if response.status_code == 200:\n",
    "    output = json.loads(response.json())\n",
    "    print(\"Predictions:\")\n",
    "    for i in range(len(X_input)):\n",
    "        #print (\" trj_id: {}. Predicted duration: {}\".format(ids[i], y[\"result\"][i]))\n",
    "        y_pred.append(output[\"result\"][i])\n",
    "else:\n",
    "    print(response)"
   ]
  },
  {
   "cell_type": "code",
   "execution_count": 84,
   "metadata": {},
   "outputs": [
    {
     "data": {
      "text/html": [
       "<div>\n",
       "<style scoped>\n",
       "    .dataframe tbody tr th:only-of-type {\n",
       "        vertical-align: middle;\n",
       "    }\n",
       "\n",
       "    .dataframe tbody tr th {\n",
       "        vertical-align: top;\n",
       "    }\n",
       "\n",
       "    .dataframe thead th {\n",
       "        text-align: right;\n",
       "    }\n",
       "</style>\n",
       "<table border=\"1\" class=\"dataframe\">\n",
       "  <thead>\n",
       "    <tr style=\"text-align: right;\">\n",
       "      <th></th>\n",
       "      <th>trj_id</th>\n",
       "      <th>predicted_duration</th>\n",
       "      <th>actual_duration</th>\n",
       "    </tr>\n",
       "  </thead>\n",
       "  <tbody>\n",
       "    <tr>\n",
       "      <td>0</td>\n",
       "      <td>68460</td>\n",
       "      <td>1123.966951</td>\n",
       "      <td>846</td>\n",
       "    </tr>\n",
       "    <tr>\n",
       "      <td>1</td>\n",
       "      <td>72213</td>\n",
       "      <td>1121.833091</td>\n",
       "      <td>1089</td>\n",
       "    </tr>\n",
       "    <tr>\n",
       "      <td>2</td>\n",
       "      <td>68991</td>\n",
       "      <td>1049.080585</td>\n",
       "      <td>779</td>\n",
       "    </tr>\n",
       "    <tr>\n",
       "      <td>3</td>\n",
       "      <td>75975</td>\n",
       "      <td>1102.002960</td>\n",
       "      <td>1002</td>\n",
       "    </tr>\n",
       "    <tr>\n",
       "      <td>4</td>\n",
       "      <td>64210</td>\n",
       "      <td>1316.383183</td>\n",
       "      <td>1296</td>\n",
       "    </tr>\n",
       "  </tbody>\n",
       "</table>\n",
       "</div>"
      ],
      "text/plain": [
       "   trj_id  predicted_duration  actual_duration\n",
       "0   68460         1123.966951              846\n",
       "1   72213         1121.833091             1089\n",
       "2   68991         1049.080585              779\n",
       "3   75975         1102.002960             1002\n",
       "4   64210         1316.383183             1296"
      ]
     },
     "execution_count": 84,
     "metadata": {},
     "output_type": "execute_result"
    }
   ],
   "source": [
    "df = pd.DataFrame(list(zip(ids, y_pred, y_true)), columns=[\"trj_id\",\"predicted_duration\", \"actual_duration\"])"
   ]
  },
  {
   "cell_type": "code",
   "execution_count": 86,
   "metadata": {},
   "outputs": [
    {
     "data": {
      "text/plain": [
       "array([1123.96695061, 1121.83309079, 1049.08058493, ..., 1058.14430586,\n",
       "       1455.96094058, 1118.96482122])"
      ]
     },
     "execution_count": 86,
     "metadata": {},
     "output_type": "execute_result"
    }
   ],
   "source": [
    "predictions = df['predicted_duration'].values\n",
    "actual = df['actual_duration'].values"
   ]
  },
  {
   "cell_type": "code",
   "execution_count": 88,
   "metadata": {},
   "outputs": [],
   "source": [
    "from sklearn.metrics import mean_squared_error as mse"
   ]
  },
  {
   "cell_type": "code",
   "execution_count": 89,
   "metadata": {},
   "outputs": [
    {
     "data": {
      "text/plain": [
       "243.58166074886265"
      ]
     },
     "execution_count": 89,
     "metadata": {},
     "output_type": "execute_result"
    }
   ],
   "source": [
    "np.sqrt(mse(actual, predictions))"
   ]
  },
  {
   "cell_type": "code",
   "execution_count": null,
   "metadata": {},
   "outputs": [],
   "source": []
  }
 ],
 "metadata": {
  "kernelspec": {
   "display_name": "Python 3",
   "language": "python",
   "name": "python3"
  },
  "language_info": {
   "codemirror_mode": {
    "name": "ipython",
    "version": 3
   },
   "file_extension": ".py",
   "mimetype": "text/x-python",
   "name": "python",
   "nbconvert_exporter": "python",
   "pygments_lexer": "ipython3",
   "version": "3.8.3-final"
  }
 },
 "nbformat": 4,
 "nbformat_minor": 4
}
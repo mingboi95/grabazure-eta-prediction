{
 "cells": [
  {
   "cell_type": "code",
   "execution_count": 22,
   "metadata": {},
   "outputs": [
    {
     "output_type": "stream",
     "name": "stdout",
     "text": "<class 'pandas.core.frame.DataFrame'>\nRangeIndex: 1523 entries, 0 to 1522\nData columns (total 12 columns):\n #   Column     Non-Null Count  Dtype  \n---  ------     --------------  -----  \n 0   date       1523 non-null   object \n 1   username   1523 non-null   object \n 2   to         0 non-null      float64\n 3   replies    1523 non-null   int64  \n 4   retweets   1523 non-null   int64  \n 5   favorites  1523 non-null   int64  \n 6   text       1523 non-null   object \n 7   geo        0 non-null      float64\n 8   mentions   0 non-null      float64\n 9   hashtags   36 non-null     object \n 10  id         1523 non-null   int64  \n 11  permalink  1523 non-null   object \ndtypes: float64(3), int64(4), object(5)\nmemory usage: 142.9+ KB\n"
    }
   ],
   "source": [
    "import pandas as pd\n",
    "df = pd.read_csv('may 2019 traffic.csv')\n",
    "df.info()"
   ]
  },
  {
   "cell_type": "code",
   "execution_count": 23,
   "metadata": {},
   "outputs": [],
   "source": [
    "from datetime import datetime\n",
    "df['date'] = pd.to_datetime(df['date'])\n",
    "df['day'] = df['date'].dt.day\n",
    "df['hour'] = df['date'].dt.hour\n",
    "df['days_of_week'] = df['date'].dt.day_name()\n",
    "df = df[['date','day','hour','days_of_week','text']]"
   ]
  },
  {
   "cell_type": "code",
   "execution_count": 25,
   "metadata": {},
   "outputs": [],
   "source": [
    "df.to_csv('may.csv')"
   ]
  }
 ],
 "metadata": {
  "language_info": {
   "codemirror_mode": {
    "name": "ipython",
    "version": 3
   },
   "file_extension": ".py",
   "mimetype": "text/x-python",
   "name": "python",
   "nbconvert_exporter": "python",
   "pygments_lexer": "ipython3",
   "version": "3.8.3-final"
  },
  "orig_nbformat": 2,
  "kernelspec": {
   "name": "python38364bitb470e6dd91e14c859ab7ee7530a0aa2e",
   "display_name": "Python 3.8.3 64-bit"
  }
 },
 "nbformat": 4,
 "nbformat_minor": 2
}